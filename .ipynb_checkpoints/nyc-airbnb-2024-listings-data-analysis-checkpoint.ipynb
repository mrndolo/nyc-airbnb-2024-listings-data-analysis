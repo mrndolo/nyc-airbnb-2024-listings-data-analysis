{
 "cells": [
  {
   "cell_type": "code",
   "execution_count": 1,
   "id": "cf29494a-0061-4ee7-a5f6-9fdb66cd212b",
   "metadata": {},
   "outputs": [],
   "source": [
    "# Importing important libraries for this dataset\n",
    "import pandas as pd\n",
    "import numpy as np\n",
    "import matplotlib.pyplot as plt\n",
    "import seaborn as sns"
   ]
  },
  {
   "cell_type": "markdown",
   "id": "f4dffff3-ea93-4c72-983e-2c15701bc983",
   "metadata": {},
   "source": [
    "# Step 1: Data Cleaning"
   ]
  },
  {
   "cell_type": "code",
   "execution_count": 2,
   "id": "00ab31af-a896-4b1b-8caf-1e2882cbc285",
   "metadata": {},
   "outputs": [],
   "source": [
    "# Loading the dataset\n",
    "df = pd.read_csv('new_york_listings_2024.csv')"
   ]
  },
  {
   "cell_type": "markdown",
   "id": "3926181b-3668-4412-81cc-047d91f03c5d",
   "metadata": {},
   "source": [
    "### Inspecting the dataset"
   ]
  },
  {
   "cell_type": "code",
   "execution_count": 3,
   "id": "aef56d94-55ae-4b8c-81a4-74377e17bd02",
   "metadata": {},
   "outputs": [
    {
     "data": {
      "text/html": [
       "<div>\n",
       "<style scoped>\n",
       "    .dataframe tbody tr th:only-of-type {\n",
       "        vertical-align: middle;\n",
       "    }\n",
       "\n",
       "    .dataframe tbody tr th {\n",
       "        vertical-align: top;\n",
       "    }\n",
       "\n",
       "    .dataframe thead th {\n",
       "        text-align: right;\n",
       "    }\n",
       "</style>\n",
       "<table border=\"1\" class=\"dataframe\">\n",
       "  <thead>\n",
       "    <tr style=\"text-align: right;\">\n",
       "      <th></th>\n",
       "      <th>id</th>\n",
       "      <th>name</th>\n",
       "      <th>host_id</th>\n",
       "      <th>host_name</th>\n",
       "      <th>neighbourhood_group</th>\n",
       "      <th>neighbourhood</th>\n",
       "      <th>latitude</th>\n",
       "      <th>longitude</th>\n",
       "      <th>room_type</th>\n",
       "      <th>price</th>\n",
       "      <th>...</th>\n",
       "      <th>last_review</th>\n",
       "      <th>reviews_per_month</th>\n",
       "      <th>calculated_host_listings_count</th>\n",
       "      <th>availability_365</th>\n",
       "      <th>number_of_reviews_ltm</th>\n",
       "      <th>license</th>\n",
       "      <th>rating</th>\n",
       "      <th>bedrooms</th>\n",
       "      <th>beds</th>\n",
       "      <th>baths</th>\n",
       "    </tr>\n",
       "  </thead>\n",
       "  <tbody>\n",
       "    <tr>\n",
       "      <th>0</th>\n",
       "      <td>1312228</td>\n",
       "      <td>Rental unit in Brooklyn · ★5.0 · 1 bedroom</td>\n",
       "      <td>7130382</td>\n",
       "      <td>Walter</td>\n",
       "      <td>Brooklyn</td>\n",
       "      <td>Clinton Hill</td>\n",
       "      <td>40.683710</td>\n",
       "      <td>-73.964610</td>\n",
       "      <td>Private room</td>\n",
       "      <td>55.0</td>\n",
       "      <td>...</td>\n",
       "      <td>2015-12-20</td>\n",
       "      <td>0.03</td>\n",
       "      <td>1</td>\n",
       "      <td>0</td>\n",
       "      <td>0</td>\n",
       "      <td>No License</td>\n",
       "      <td>5.0</td>\n",
       "      <td>1</td>\n",
       "      <td>1</td>\n",
       "      <td>Not specified</td>\n",
       "    </tr>\n",
       "    <tr>\n",
       "      <th>1</th>\n",
       "      <td>45277537</td>\n",
       "      <td>Rental unit in New York · ★4.67 · 2 bedrooms ·...</td>\n",
       "      <td>51501835</td>\n",
       "      <td>Jeniffer</td>\n",
       "      <td>Manhattan</td>\n",
       "      <td>Hell's Kitchen</td>\n",
       "      <td>40.766610</td>\n",
       "      <td>-73.988100</td>\n",
       "      <td>Entire home/apt</td>\n",
       "      <td>144.0</td>\n",
       "      <td>...</td>\n",
       "      <td>2023-05-01</td>\n",
       "      <td>0.24</td>\n",
       "      <td>139</td>\n",
       "      <td>364</td>\n",
       "      <td>2</td>\n",
       "      <td>No License</td>\n",
       "      <td>4.67</td>\n",
       "      <td>2</td>\n",
       "      <td>1</td>\n",
       "      <td>1</td>\n",
       "    </tr>\n",
       "    <tr>\n",
       "      <th>2</th>\n",
       "      <td>971353993633883038</td>\n",
       "      <td>Rental unit in New York · ★4.17 · 1 bedroom · ...</td>\n",
       "      <td>528871354</td>\n",
       "      <td>Joshua</td>\n",
       "      <td>Manhattan</td>\n",
       "      <td>Chelsea</td>\n",
       "      <td>40.750764</td>\n",
       "      <td>-73.994605</td>\n",
       "      <td>Entire home/apt</td>\n",
       "      <td>187.0</td>\n",
       "      <td>...</td>\n",
       "      <td>2023-12-18</td>\n",
       "      <td>1.67</td>\n",
       "      <td>1</td>\n",
       "      <td>343</td>\n",
       "      <td>6</td>\n",
       "      <td>Exempt</td>\n",
       "      <td>4.17</td>\n",
       "      <td>1</td>\n",
       "      <td>2</td>\n",
       "      <td>1</td>\n",
       "    </tr>\n",
       "    <tr>\n",
       "      <th>3</th>\n",
       "      <td>3857863</td>\n",
       "      <td>Rental unit in New York · ★4.64 · 1 bedroom · ...</td>\n",
       "      <td>19902271</td>\n",
       "      <td>John And Catherine</td>\n",
       "      <td>Manhattan</td>\n",
       "      <td>Washington Heights</td>\n",
       "      <td>40.835600</td>\n",
       "      <td>-73.942500</td>\n",
       "      <td>Private room</td>\n",
       "      <td>120.0</td>\n",
       "      <td>...</td>\n",
       "      <td>2023-09-17</td>\n",
       "      <td>1.38</td>\n",
       "      <td>2</td>\n",
       "      <td>363</td>\n",
       "      <td>12</td>\n",
       "      <td>No License</td>\n",
       "      <td>4.64</td>\n",
       "      <td>1</td>\n",
       "      <td>1</td>\n",
       "      <td>1</td>\n",
       "    </tr>\n",
       "    <tr>\n",
       "      <th>4</th>\n",
       "      <td>40896611</td>\n",
       "      <td>Condo in New York · ★4.91 · Studio · 1 bed · 1...</td>\n",
       "      <td>61391963</td>\n",
       "      <td>Stay With Vibe</td>\n",
       "      <td>Manhattan</td>\n",
       "      <td>Murray Hill</td>\n",
       "      <td>40.751120</td>\n",
       "      <td>-73.978600</td>\n",
       "      <td>Entire home/apt</td>\n",
       "      <td>85.0</td>\n",
       "      <td>...</td>\n",
       "      <td>2023-12-03</td>\n",
       "      <td>0.24</td>\n",
       "      <td>133</td>\n",
       "      <td>335</td>\n",
       "      <td>3</td>\n",
       "      <td>No License</td>\n",
       "      <td>4.91</td>\n",
       "      <td>Studio</td>\n",
       "      <td>1</td>\n",
       "      <td>1</td>\n",
       "    </tr>\n",
       "  </tbody>\n",
       "</table>\n",
       "<p>5 rows × 22 columns</p>\n",
       "</div>"
      ],
      "text/plain": [
       "                   id                                               name  \\\n",
       "0             1312228         Rental unit in Brooklyn · ★5.0 · 1 bedroom   \n",
       "1            45277537  Rental unit in New York · ★4.67 · 2 bedrooms ·...   \n",
       "2  971353993633883038  Rental unit in New York · ★4.17 · 1 bedroom · ...   \n",
       "3             3857863  Rental unit in New York · ★4.64 · 1 bedroom · ...   \n",
       "4            40896611  Condo in New York · ★4.91 · Studio · 1 bed · 1...   \n",
       "\n",
       "     host_id           host_name neighbourhood_group       neighbourhood  \\\n",
       "0    7130382              Walter            Brooklyn        Clinton Hill   \n",
       "1   51501835            Jeniffer           Manhattan      Hell's Kitchen   \n",
       "2  528871354              Joshua           Manhattan             Chelsea   \n",
       "3   19902271  John And Catherine           Manhattan  Washington Heights   \n",
       "4   61391963      Stay With Vibe           Manhattan         Murray Hill   \n",
       "\n",
       "    latitude  longitude        room_type  price  ...  last_review  \\\n",
       "0  40.683710 -73.964610     Private room   55.0  ...   2015-12-20   \n",
       "1  40.766610 -73.988100  Entire home/apt  144.0  ...   2023-05-01   \n",
       "2  40.750764 -73.994605  Entire home/apt  187.0  ...   2023-12-18   \n",
       "3  40.835600 -73.942500     Private room  120.0  ...   2023-09-17   \n",
       "4  40.751120 -73.978600  Entire home/apt   85.0  ...   2023-12-03   \n",
       "\n",
       "   reviews_per_month calculated_host_listings_count  availability_365  \\\n",
       "0               0.03                              1                 0   \n",
       "1               0.24                            139               364   \n",
       "2               1.67                              1               343   \n",
       "3               1.38                              2               363   \n",
       "4               0.24                            133               335   \n",
       "\n",
       "   number_of_reviews_ltm     license  rating bedrooms beds          baths  \n",
       "0                      0  No License    5.0         1    1  Not specified  \n",
       "1                      2  No License   4.67         2    1              1  \n",
       "2                      6      Exempt   4.17         1    2              1  \n",
       "3                     12  No License   4.64         1    1              1  \n",
       "4                      3  No License   4.91    Studio    1              1  \n",
       "\n",
       "[5 rows x 22 columns]"
      ]
     },
     "execution_count": 3,
     "metadata": {},
     "output_type": "execute_result"
    }
   ],
   "source": [
    "# Displaying the first few rows\n",
    "df.head()"
   ]
  },
  {
   "cell_type": "code",
   "execution_count": 4,
   "id": "4f42c10e-946c-4c02-952d-53da012a7781",
   "metadata": {},
   "outputs": [
    {
     "data": {
      "text/html": [
       "<div>\n",
       "<style scoped>\n",
       "    .dataframe tbody tr th:only-of-type {\n",
       "        vertical-align: middle;\n",
       "    }\n",
       "\n",
       "    .dataframe tbody tr th {\n",
       "        vertical-align: top;\n",
       "    }\n",
       "\n",
       "    .dataframe thead th {\n",
       "        text-align: right;\n",
       "    }\n",
       "</style>\n",
       "<table border=\"1\" class=\"dataframe\">\n",
       "  <thead>\n",
       "    <tr style=\"text-align: right;\">\n",
       "      <th></th>\n",
       "      <th>id</th>\n",
       "      <th>name</th>\n",
       "      <th>host_id</th>\n",
       "      <th>host_name</th>\n",
       "      <th>neighbourhood_group</th>\n",
       "      <th>neighbourhood</th>\n",
       "      <th>latitude</th>\n",
       "      <th>longitude</th>\n",
       "      <th>room_type</th>\n",
       "      <th>price</th>\n",
       "      <th>...</th>\n",
       "      <th>last_review</th>\n",
       "      <th>reviews_per_month</th>\n",
       "      <th>calculated_host_listings_count</th>\n",
       "      <th>availability_365</th>\n",
       "      <th>number_of_reviews_ltm</th>\n",
       "      <th>license</th>\n",
       "      <th>rating</th>\n",
       "      <th>bedrooms</th>\n",
       "      <th>beds</th>\n",
       "      <th>baths</th>\n",
       "    </tr>\n",
       "  </thead>\n",
       "  <tbody>\n",
       "    <tr>\n",
       "      <th>20753</th>\n",
       "      <td>24736896</td>\n",
       "      <td>Rental unit in New York · ★4.75 · 1 bedroom · ...</td>\n",
       "      <td>186680487</td>\n",
       "      <td>Henry D</td>\n",
       "      <td>Manhattan</td>\n",
       "      <td>Lower East Side</td>\n",
       "      <td>40.711380</td>\n",
       "      <td>-73.991560</td>\n",
       "      <td>Private room</td>\n",
       "      <td>45.0</td>\n",
       "      <td>...</td>\n",
       "      <td>2023-09-29</td>\n",
       "      <td>1.81</td>\n",
       "      <td>1</td>\n",
       "      <td>157</td>\n",
       "      <td>12</td>\n",
       "      <td>No License</td>\n",
       "      <td>4.75</td>\n",
       "      <td>1</td>\n",
       "      <td>1</td>\n",
       "      <td>1</td>\n",
       "    </tr>\n",
       "    <tr>\n",
       "      <th>20754</th>\n",
       "      <td>2835711</td>\n",
       "      <td>Rental unit in New York · ★4.46 · 1 bedroom · ...</td>\n",
       "      <td>3237504</td>\n",
       "      <td>Aspen</td>\n",
       "      <td>Manhattan</td>\n",
       "      <td>Greenwich Village</td>\n",
       "      <td>40.730580</td>\n",
       "      <td>-74.000700</td>\n",
       "      <td>Entire home/apt</td>\n",
       "      <td>105.0</td>\n",
       "      <td>...</td>\n",
       "      <td>2023-07-01</td>\n",
       "      <td>0.48</td>\n",
       "      <td>1</td>\n",
       "      <td>0</td>\n",
       "      <td>1</td>\n",
       "      <td>No License</td>\n",
       "      <td>4.46</td>\n",
       "      <td>1</td>\n",
       "      <td>2</td>\n",
       "      <td>1</td>\n",
       "    </tr>\n",
       "    <tr>\n",
       "      <th>20755</th>\n",
       "      <td>51825274</td>\n",
       "      <td>Rental unit in New York · ★4.93 · 1 bedroom · ...</td>\n",
       "      <td>304317395</td>\n",
       "      <td>Jeff</td>\n",
       "      <td>Manhattan</td>\n",
       "      <td>Hell's Kitchen</td>\n",
       "      <td>40.757350</td>\n",
       "      <td>-73.993430</td>\n",
       "      <td>Entire home/apt</td>\n",
       "      <td>299.0</td>\n",
       "      <td>...</td>\n",
       "      <td>2023-12-08</td>\n",
       "      <td>2.09</td>\n",
       "      <td>1</td>\n",
       "      <td>0</td>\n",
       "      <td>27</td>\n",
       "      <td>No License</td>\n",
       "      <td>4.93</td>\n",
       "      <td>1</td>\n",
       "      <td>1</td>\n",
       "      <td>1</td>\n",
       "    </tr>\n",
       "    <tr>\n",
       "      <th>20756</th>\n",
       "      <td>782661008019550832</td>\n",
       "      <td>Rental unit in New York · ★5.0 · 1 bedroom · 1...</td>\n",
       "      <td>163083101</td>\n",
       "      <td>Marissa</td>\n",
       "      <td>Manhattan</td>\n",
       "      <td>Chinatown</td>\n",
       "      <td>40.713750</td>\n",
       "      <td>-73.991470</td>\n",
       "      <td>Entire home/apt</td>\n",
       "      <td>115.0</td>\n",
       "      <td>...</td>\n",
       "      <td>2023-09-17</td>\n",
       "      <td>0.91</td>\n",
       "      <td>1</td>\n",
       "      <td>363</td>\n",
       "      <td>7</td>\n",
       "      <td>No License</td>\n",
       "      <td>5.0</td>\n",
       "      <td>1</td>\n",
       "      <td>1</td>\n",
       "      <td>1</td>\n",
       "    </tr>\n",
       "    <tr>\n",
       "      <th>20757</th>\n",
       "      <td>566029911248687183</td>\n",
       "      <td>Rental unit in Queens · ★4.89 · 1 bedroom · 1 ...</td>\n",
       "      <td>93827372</td>\n",
       "      <td>Glenroy</td>\n",
       "      <td>Queens</td>\n",
       "      <td>Rosedale</td>\n",
       "      <td>40.658874</td>\n",
       "      <td>-73.728651</td>\n",
       "      <td>Private room</td>\n",
       "      <td>102.0</td>\n",
       "      <td>...</td>\n",
       "      <td>2023-12-10</td>\n",
       "      <td>4.50</td>\n",
       "      <td>1</td>\n",
       "      <td>0</td>\n",
       "      <td>62</td>\n",
       "      <td>OSE-STRREG-0000513</td>\n",
       "      <td>4.89</td>\n",
       "      <td>1</td>\n",
       "      <td>1</td>\n",
       "      <td>1</td>\n",
       "    </tr>\n",
       "  </tbody>\n",
       "</table>\n",
       "<p>5 rows × 22 columns</p>\n",
       "</div>"
      ],
      "text/plain": [
       "                       id                                               name  \\\n",
       "20753            24736896  Rental unit in New York · ★4.75 · 1 bedroom · ...   \n",
       "20754             2835711  Rental unit in New York · ★4.46 · 1 bedroom · ...   \n",
       "20755            51825274  Rental unit in New York · ★4.93 · 1 bedroom · ...   \n",
       "20756  782661008019550832  Rental unit in New York · ★5.0 · 1 bedroom · 1...   \n",
       "20757  566029911248687183  Rental unit in Queens · ★4.89 · 1 bedroom · 1 ...   \n",
       "\n",
       "         host_id host_name neighbourhood_group      neighbourhood   latitude  \\\n",
       "20753  186680487   Henry D           Manhattan    Lower East Side  40.711380   \n",
       "20754    3237504     Aspen           Manhattan  Greenwich Village  40.730580   \n",
       "20755  304317395      Jeff           Manhattan     Hell's Kitchen  40.757350   \n",
       "20756  163083101   Marissa           Manhattan          Chinatown  40.713750   \n",
       "20757   93827372   Glenroy              Queens           Rosedale  40.658874   \n",
       "\n",
       "       longitude        room_type  price  ...  last_review  reviews_per_month  \\\n",
       "20753 -73.991560     Private room   45.0  ...   2023-09-29               1.81   \n",
       "20754 -74.000700  Entire home/apt  105.0  ...   2023-07-01               0.48   \n",
       "20755 -73.993430  Entire home/apt  299.0  ...   2023-12-08               2.09   \n",
       "20756 -73.991470  Entire home/apt  115.0  ...   2023-09-17               0.91   \n",
       "20757 -73.728651     Private room  102.0  ...   2023-12-10               4.50   \n",
       "\n",
       "      calculated_host_listings_count  availability_365  number_of_reviews_ltm  \\\n",
       "20753                              1               157                     12   \n",
       "20754                              1                 0                      1   \n",
       "20755                              1                 0                     27   \n",
       "20756                              1               363                      7   \n",
       "20757                              1                 0                     62   \n",
       "\n",
       "                  license  rating bedrooms beds baths  \n",
       "20753          No License   4.75         1    1     1  \n",
       "20754          No License   4.46         1    2     1  \n",
       "20755          No License   4.93         1    1     1  \n",
       "20756          No License    5.0         1    1     1  \n",
       "20757  OSE-STRREG-0000513   4.89         1    1     1  \n",
       "\n",
       "[5 rows x 22 columns]"
      ]
     },
     "execution_count": 4,
     "metadata": {},
     "output_type": "execute_result"
    }
   ],
   "source": [
    "# Displaying the last rows\n",
    "df.tail()"
   ]
  },
  {
   "cell_type": "code",
   "execution_count": 5,
   "id": "9c0808a8-0421-4b4c-97dd-16832c876388",
   "metadata": {},
   "outputs": [
    {
     "name": "stdout",
     "output_type": "stream",
     "text": [
      "Rows:  20758\n",
      "columns:  22\n"
     ]
    }
   ],
   "source": [
    "# Checking the number of rows and columns in the data\n",
    "rows, columns = df.shape\n",
    "print(f\"Rows: \", rows)\n",
    "print(f\"columns: \", columns)"
   ]
  },
  {
   "cell_type": "code",
   "execution_count": 6,
   "id": "aa80d57d-0992-4a95-90cb-b47a1af2d98f",
   "metadata": {},
   "outputs": [
    {
     "name": "stdout",
     "output_type": "stream",
     "text": [
      "<class 'pandas.core.frame.DataFrame'>\n",
      "RangeIndex: 20758 entries, 0 to 20757\n",
      "Data columns (total 22 columns):\n",
      " #   Column                          Non-Null Count  Dtype  \n",
      "---  ------                          --------------  -----  \n",
      " 0   id                              20758 non-null  int64  \n",
      " 1   name                            20758 non-null  object \n",
      " 2   host_id                         20758 non-null  int64  \n",
      " 3   host_name                       20758 non-null  object \n",
      " 4   neighbourhood_group             20758 non-null  object \n",
      " 5   neighbourhood                   20758 non-null  object \n",
      " 6   latitude                        20758 non-null  float64\n",
      " 7   longitude                       20758 non-null  float64\n",
      " 8   room_type                       20758 non-null  object \n",
      " 9   price                           20758 non-null  float64\n",
      " 10  minimum_nights                  20758 non-null  int64  \n",
      " 11  number_of_reviews               20758 non-null  int64  \n",
      " 12  last_review                     20758 non-null  object \n",
      " 13  reviews_per_month               20758 non-null  float64\n",
      " 14  calculated_host_listings_count  20758 non-null  int64  \n",
      " 15  availability_365                20758 non-null  int64  \n",
      " 16  number_of_reviews_ltm           20758 non-null  int64  \n",
      " 17  license                         20758 non-null  object \n",
      " 18  rating                          20758 non-null  object \n",
      " 19  bedrooms                        20758 non-null  object \n",
      " 20  beds                            20758 non-null  int64  \n",
      " 21  baths                           20758 non-null  object \n",
      "dtypes: float64(4), int64(8), object(10)\n",
      "memory usage: 3.5+ MB\n"
     ]
    }
   ],
   "source": [
    "# Show the basic info about the dataset, like column names, data types, and non-null counts\n",
    "df.info()"
   ]
  },
  {
   "cell_type": "code",
   "execution_count": 7,
   "id": "b42c7ffd-e5a2-4c22-a9eb-4ef302cbb7db",
   "metadata": {},
   "outputs": [
    {
     "data": {
      "text/html": [
       "<div>\n",
       "<style scoped>\n",
       "    .dataframe tbody tr th:only-of-type {\n",
       "        vertical-align: middle;\n",
       "    }\n",
       "\n",
       "    .dataframe tbody tr th {\n",
       "        vertical-align: top;\n",
       "    }\n",
       "\n",
       "    .dataframe thead th {\n",
       "        text-align: right;\n",
       "    }\n",
       "</style>\n",
       "<table border=\"1\" class=\"dataframe\">\n",
       "  <thead>\n",
       "    <tr style=\"text-align: right;\">\n",
       "      <th></th>\n",
       "      <th>id</th>\n",
       "      <th>host_id</th>\n",
       "      <th>latitude</th>\n",
       "      <th>longitude</th>\n",
       "      <th>price</th>\n",
       "      <th>minimum_nights</th>\n",
       "      <th>number_of_reviews</th>\n",
       "      <th>reviews_per_month</th>\n",
       "      <th>calculated_host_listings_count</th>\n",
       "      <th>availability_365</th>\n",
       "      <th>number_of_reviews_ltm</th>\n",
       "      <th>beds</th>\n",
       "    </tr>\n",
       "  </thead>\n",
       "  <tbody>\n",
       "    <tr>\n",
       "      <th>count</th>\n",
       "      <td>2.075800e+04</td>\n",
       "      <td>2.075800e+04</td>\n",
       "      <td>20758.000000</td>\n",
       "      <td>20758.000000</td>\n",
       "      <td>20758.000000</td>\n",
       "      <td>20758.000000</td>\n",
       "      <td>20758.000000</td>\n",
       "      <td>20758.000000</td>\n",
       "      <td>20758.000000</td>\n",
       "      <td>20758.000000</td>\n",
       "      <td>20758.000000</td>\n",
       "      <td>20758.000000</td>\n",
       "    </tr>\n",
       "    <tr>\n",
       "      <th>mean</th>\n",
       "      <td>3.034044e+17</td>\n",
       "      <td>1.749316e+08</td>\n",
       "      <td>40.726798</td>\n",
       "      <td>-73.939161</td>\n",
       "      <td>187.776616</td>\n",
       "      <td>28.558435</td>\n",
       "      <td>42.642596</td>\n",
       "      <td>1.257910</td>\n",
       "      <td>18.844108</td>\n",
       "      <td>205.990317</td>\n",
       "      <td>10.852105</td>\n",
       "      <td>1.723721</td>\n",
       "    </tr>\n",
       "    <tr>\n",
       "      <th>std</th>\n",
       "      <td>3.901216e+17</td>\n",
       "      <td>1.725541e+08</td>\n",
       "      <td>0.060294</td>\n",
       "      <td>0.061403</td>\n",
       "      <td>1022.797208</td>\n",
       "      <td>33.536518</td>\n",
       "      <td>73.561654</td>\n",
       "      <td>1.904661</td>\n",
       "      <td>70.910834</td>\n",
       "      <td>135.087768</td>\n",
       "      <td>21.357071</td>\n",
       "      <td>1.212272</td>\n",
       "    </tr>\n",
       "    <tr>\n",
       "      <th>min</th>\n",
       "      <td>2.595000e+03</td>\n",
       "      <td>1.678000e+03</td>\n",
       "      <td>40.500314</td>\n",
       "      <td>-74.249840</td>\n",
       "      <td>10.000000</td>\n",
       "      <td>1.000000</td>\n",
       "      <td>1.000000</td>\n",
       "      <td>0.010000</td>\n",
       "      <td>1.000000</td>\n",
       "      <td>0.000000</td>\n",
       "      <td>0.000000</td>\n",
       "      <td>1.000000</td>\n",
       "    </tr>\n",
       "    <tr>\n",
       "      <th>25%</th>\n",
       "      <td>2.708808e+07</td>\n",
       "      <td>2.041738e+07</td>\n",
       "      <td>40.684150</td>\n",
       "      <td>-73.980710</td>\n",
       "      <td>80.000000</td>\n",
       "      <td>30.000000</td>\n",
       "      <td>4.000000</td>\n",
       "      <td>0.210000</td>\n",
       "      <td>1.000000</td>\n",
       "      <td>87.000000</td>\n",
       "      <td>1.000000</td>\n",
       "      <td>1.000000</td>\n",
       "    </tr>\n",
       "    <tr>\n",
       "      <th>50%</th>\n",
       "      <td>4.993003e+07</td>\n",
       "      <td>1.087271e+08</td>\n",
       "      <td>40.722820</td>\n",
       "      <td>-73.949587</td>\n",
       "      <td>125.000000</td>\n",
       "      <td>30.000000</td>\n",
       "      <td>14.000000</td>\n",
       "      <td>0.650000</td>\n",
       "      <td>2.000000</td>\n",
       "      <td>215.000000</td>\n",
       "      <td>3.000000</td>\n",
       "      <td>1.000000</td>\n",
       "    </tr>\n",
       "    <tr>\n",
       "      <th>75%</th>\n",
       "      <td>7.216019e+17</td>\n",
       "      <td>3.144102e+08</td>\n",
       "      <td>40.763098</td>\n",
       "      <td>-73.917460</td>\n",
       "      <td>199.000000</td>\n",
       "      <td>30.000000</td>\n",
       "      <td>49.000000</td>\n",
       "      <td>1.800000</td>\n",
       "      <td>5.000000</td>\n",
       "      <td>353.000000</td>\n",
       "      <td>15.000000</td>\n",
       "      <td>2.000000</td>\n",
       "    </tr>\n",
       "    <tr>\n",
       "      <th>max</th>\n",
       "      <td>1.054376e+18</td>\n",
       "      <td>5.504035e+08</td>\n",
       "      <td>40.911147</td>\n",
       "      <td>-73.713650</td>\n",
       "      <td>100000.000000</td>\n",
       "      <td>1250.000000</td>\n",
       "      <td>1865.000000</td>\n",
       "      <td>75.490000</td>\n",
       "      <td>713.000000</td>\n",
       "      <td>365.000000</td>\n",
       "      <td>1075.000000</td>\n",
       "      <td>42.000000</td>\n",
       "    </tr>\n",
       "  </tbody>\n",
       "</table>\n",
       "</div>"
      ],
      "text/plain": [
       "                 id       host_id      latitude     longitude          price  \\\n",
       "count  2.075800e+04  2.075800e+04  20758.000000  20758.000000   20758.000000   \n",
       "mean   3.034044e+17  1.749316e+08     40.726798    -73.939161     187.776616   \n",
       "std    3.901216e+17  1.725541e+08      0.060294      0.061403    1022.797208   \n",
       "min    2.595000e+03  1.678000e+03     40.500314    -74.249840      10.000000   \n",
       "25%    2.708808e+07  2.041738e+07     40.684150    -73.980710      80.000000   \n",
       "50%    4.993003e+07  1.087271e+08     40.722820    -73.949587     125.000000   \n",
       "75%    7.216019e+17  3.144102e+08     40.763098    -73.917460     199.000000   \n",
       "max    1.054376e+18  5.504035e+08     40.911147    -73.713650  100000.000000   \n",
       "\n",
       "       minimum_nights  number_of_reviews  reviews_per_month  \\\n",
       "count    20758.000000       20758.000000       20758.000000   \n",
       "mean        28.558435          42.642596           1.257910   \n",
       "std         33.536518          73.561654           1.904661   \n",
       "min          1.000000           1.000000           0.010000   \n",
       "25%         30.000000           4.000000           0.210000   \n",
       "50%         30.000000          14.000000           0.650000   \n",
       "75%         30.000000          49.000000           1.800000   \n",
       "max       1250.000000        1865.000000          75.490000   \n",
       "\n",
       "       calculated_host_listings_count  availability_365  \\\n",
       "count                    20758.000000      20758.000000   \n",
       "mean                        18.844108        205.990317   \n",
       "std                         70.910834        135.087768   \n",
       "min                          1.000000          0.000000   \n",
       "25%                          1.000000         87.000000   \n",
       "50%                          2.000000        215.000000   \n",
       "75%                          5.000000        353.000000   \n",
       "max                        713.000000        365.000000   \n",
       "\n",
       "       number_of_reviews_ltm          beds  \n",
       "count           20758.000000  20758.000000  \n",
       "mean               10.852105      1.723721  \n",
       "std                21.357071      1.212272  \n",
       "min                 0.000000      1.000000  \n",
       "25%                 1.000000      1.000000  \n",
       "50%                 3.000000      1.000000  \n",
       "75%                15.000000      2.000000  \n",
       "max              1075.000000     42.000000  "
      ]
     },
     "execution_count": 7,
     "metadata": {},
     "output_type": "execute_result"
    }
   ],
   "source": [
    "# Display summary statistics for numerical columns to identify range and outliers\n",
    "df.describe()"
   ]
  },
  {
   "cell_type": "code",
   "execution_count": 8,
   "id": "de1d4791-01e6-4cc1-8093-d97b0ecdaadc",
   "metadata": {},
   "outputs": [
    {
     "name": "stdout",
     "output_type": "stream",
     "text": [
      "Unique values in name: 9836\n",
      "Unique values in host_name: 5815\n",
      "Unique values in neighbourhood_group: 5\n",
      "Unique values in neighbourhood: 221\n",
      "Unique values in room_type: 4\n",
      "Unique values in last_review: 1878\n",
      "Unique values in license: 879\n",
      "Unique values in rating: 162\n",
      "Unique values in bedrooms: 12\n",
      "Unique values in baths: 17\n"
     ]
    }
   ],
   "source": [
    "# Unique values for each column to understand categorical variables better\n",
    "for column in df.select_dtypes(include='object').columns:\n",
    "    print(f\"Unique values in {column}: {df[column].nunique()}\")"
   ]
  },
  {
   "cell_type": "code",
   "execution_count": 9,
   "id": "bf073748-3af2-477a-81fa-f92cae2a960b",
   "metadata": {},
   "outputs": [
    {
     "data": {
      "text/plain": [
       "id                                0\n",
       "name                              0\n",
       "host_id                           0\n",
       "host_name                         0\n",
       "neighbourhood_group               0\n",
       "neighbourhood                     0\n",
       "latitude                          0\n",
       "longitude                         0\n",
       "room_type                         0\n",
       "price                             0\n",
       "minimum_nights                    0\n",
       "number_of_reviews                 0\n",
       "last_review                       0\n",
       "reviews_per_month                 0\n",
       "calculated_host_listings_count    0\n",
       "availability_365                  0\n",
       "number_of_reviews_ltm             0\n",
       "license                           0\n",
       "rating                            0\n",
       "bedrooms                          0\n",
       "beds                              0\n",
       "baths                             0\n",
       "dtype: int64"
      ]
     },
     "execution_count": 9,
     "metadata": {},
     "output_type": "execute_result"
    }
   ],
   "source": [
    "# Checking for missing values in each column\n",
    "df.isnull().sum()"
   ]
  },
  {
   "cell_type": "markdown",
   "id": "7578ffce-a051-4d09-b9bf-42690ac2a522",
   "metadata": {},
   "source": [
    "### Removing irrelevant columns"
   ]
  },
  {
   "cell_type": "code",
   "execution_count": 10,
   "id": "7f5d25b7-552f-42af-8d5a-4f16b834b29f",
   "metadata": {},
   "outputs": [
    {
     "name": "stdout",
     "output_type": "stream",
     "text": [
      "<class 'pandas.core.frame.DataFrame'>\n",
      "RangeIndex: 20758 entries, 0 to 20757\n",
      "Data columns (total 19 columns):\n",
      " #   Column                          Non-Null Count  Dtype  \n",
      "---  ------                          --------------  -----  \n",
      " 0   id                              20758 non-null  int64  \n",
      " 1   name                            20758 non-null  object \n",
      " 2   host_id                         20758 non-null  int64  \n",
      " 3   neighbourhood_group             20758 non-null  object \n",
      " 4   neighbourhood                   20758 non-null  object \n",
      " 5   latitude                        20758 non-null  float64\n",
      " 6   longitude                       20758 non-null  float64\n",
      " 7   room_type                       20758 non-null  object \n",
      " 8   price                           20758 non-null  float64\n",
      " 9   minimum_nights                  20758 non-null  int64  \n",
      " 10  number_of_reviews               20758 non-null  int64  \n",
      " 11  reviews_per_month               20758 non-null  float64\n",
      " 12  calculated_host_listings_count  20758 non-null  int64  \n",
      " 13  availability_365                20758 non-null  int64  \n",
      " 14  number_of_reviews_ltm           20758 non-null  int64  \n",
      " 15  rating                          20758 non-null  object \n",
      " 16  bedrooms                        20758 non-null  object \n",
      " 17  beds                            20758 non-null  int64  \n",
      " 18  baths                           20758 non-null  object \n",
      "dtypes: float64(4), int64(8), object(7)\n",
      "memory usage: 3.0+ MB\n"
     ]
    }
   ],
   "source": [
    "# Drop irrelevant or mostly empty columns (adjust based on inspection)\n",
    "columns_to_drop = ['license', 'host_name', 'last_review']\n",
    "df = df.drop(columns=columns_to_drop, errors='ignore')\n",
    "df.info()"
   ]
  },
  {
   "cell_type": "code",
   "execution_count": 11,
   "id": "dff2b070-cae2-4935-9654-ec0f78c62095",
   "metadata": {},
   "outputs": [
    {
     "name": "stderr",
     "output_type": "stream",
     "text": [
      "C:\\Users\\User\\AppData\\Local\\Temp\\ipykernel_14836\\3318532997.py:2: FutureWarning: A value is trying to be set on a copy of a DataFrame or Series through chained assignment using an inplace method.\n",
      "The behavior will change in pandas 3.0. This inplace method will never work because the intermediate object on which we are setting values always behaves as a copy.\n",
      "\n",
      "For example, when doing 'df[col].method(value, inplace=True)', try using 'df.method({col: value}, inplace=True)' or df[col] = df[col].method(value) instead, to perform the operation inplace on the original object.\n",
      "\n",
      "\n",
      "  df['reviews_per_month'].fillna(0, inplace=True)\n"
     ]
    }
   ],
   "source": [
    "# Fill missing values in specific columns\n",
    "df['reviews_per_month'].fillna(0, inplace=True)"
   ]
  },
  {
   "cell_type": "code",
   "execution_count": 12,
   "id": "e18b6ff6-8da3-4143-9b37-77367949e4d1",
   "metadata": {},
   "outputs": [
    {
     "name": "stdout",
     "output_type": "stream",
     "text": [
      "<class 'pandas.core.frame.DataFrame'>\n",
      "RangeIndex: 20758 entries, 0 to 20757\n",
      "Data columns (total 19 columns):\n",
      " #   Column                          Non-Null Count  Dtype  \n",
      "---  ------                          --------------  -----  \n",
      " 0   id                              20758 non-null  int64  \n",
      " 1   name                            20758 non-null  object \n",
      " 2   host_id                         20758 non-null  int64  \n",
      " 3   neighbourhood_group             20758 non-null  object \n",
      " 4   neighbourhood                   20758 non-null  object \n",
      " 5   latitude                        20758 non-null  float64\n",
      " 6   longitude                       20758 non-null  float64\n",
      " 7   room_type                       20758 non-null  object \n",
      " 8   price                           20758 non-null  float64\n",
      " 9   minimum_nights                  20758 non-null  int64  \n",
      " 10  number_of_reviews               20758 non-null  int64  \n",
      " 11  reviews_per_month               20758 non-null  float64\n",
      " 12  calculated_host_listings_count  20758 non-null  int64  \n",
      " 13  availability_365                20758 non-null  int64  \n",
      " 14  number_of_reviews_ltm           20758 non-null  int64  \n",
      " 15  rating                          20758 non-null  object \n",
      " 16  bedrooms                        20758 non-null  object \n",
      " 17  beds                            20758 non-null  int64  \n",
      " 18  baths                           20758 non-null  object \n",
      "dtypes: float64(4), int64(8), object(7)\n",
      "memory usage: 3.0+ MB\n"
     ]
    }
   ],
   "source": [
    "df.info()"
   ]
  },
  {
   "cell_type": "code",
   "execution_count": 13,
   "id": "01fca55d-8859-4e6f-94e6-9940df4eab4f",
   "metadata": {},
   "outputs": [
    {
     "name": "stdout",
     "output_type": "stream",
     "text": [
      "<class 'pandas.core.frame.DataFrame'>\n",
      "RangeIndex: 20758 entries, 0 to 20757\n",
      "Data columns (total 19 columns):\n",
      " #   Column                          Non-Null Count  Dtype  \n",
      "---  ------                          --------------  -----  \n",
      " 0   id                              20758 non-null  int64  \n",
      " 1   name                            20758 non-null  object \n",
      " 2   host_id                         20758 non-null  int64  \n",
      " 3   neighbourhood_group             20758 non-null  object \n",
      " 4   neighbourhood                   20758 non-null  object \n",
      " 5   latitude                        20758 non-null  float64\n",
      " 6   longitude                       20758 non-null  float64\n",
      " 7   room_type                       20758 non-null  object \n",
      " 8   price                           20758 non-null  float64\n",
      " 9   minimum_nights                  20758 non-null  int64  \n",
      " 10  number_of_reviews               20758 non-null  int64  \n",
      " 11  reviews_per_month               20758 non-null  float64\n",
      " 12  calculated_host_listings_count  20758 non-null  int64  \n",
      " 13  availability_365                20758 non-null  int64  \n",
      " 14  number_of_reviews_ltm           20758 non-null  int64  \n",
      " 15  rating                          20758 non-null  object \n",
      " 16  bedrooms                        20758 non-null  object \n",
      " 17  beds                            20758 non-null  int64  \n",
      " 18  baths                           20758 non-null  object \n",
      "dtypes: float64(4), int64(8), object(7)\n",
      "memory usage: 3.0+ MB\n"
     ]
    }
   ],
   "source": [
    "# Drop rows with remaining null values if necessary\n",
    "df = df.dropna()\n",
    "df.info()"
   ]
  },
  {
   "cell_type": "code",
   "execution_count": 14,
   "id": "81bd2391-d4fc-4edb-8cca-13b88c9b08e0",
   "metadata": {},
   "outputs": [
    {
     "name": "stdout",
     "output_type": "stream",
     "text": [
      "<class 'pandas.core.series.Series'>\n",
      "RangeIndex: 20758 entries, 0 to 20757\n",
      "Series name: price\n",
      "Non-Null Count  Dtype  \n",
      "--------------  -----  \n",
      "20758 non-null  float64\n",
      "dtypes: float64(1)\n",
      "memory usage: 162.3 KB\n"
     ]
    }
   ],
   "source": [
    "# Remove listings with zero or null prices, assuming these are incomplete records\n",
    "df = df[df['price'] > 0]\n",
    "df['price'].info()"
   ]
  },
  {
   "cell_type": "markdown",
   "id": "40edbeb3-c1af-42e8-b300-e71dd0cab40a",
   "metadata": {},
   "source": [
    "# 3. Exploratory Data Analysis (EDA)"
   ]
  },
  {
   "cell_type": "code",
   "execution_count": 15,
   "id": "1862dbf9-ae3f-45fa-9384-f038e3b3aa39",
   "metadata": {},
   "outputs": [
    {
     "data": {
      "image/png": "[encoded data removed]",
      "text/plain": [
       "<Figure size 1000x600 with 1 Axes>"
      ]
     },
     "metadata": {},
     "output_type": "display_data"
    }
   ],
   "source": [
    "plt.figure(figsize=(10, 6))\n",
    "sns.histplot(df['price'], bins=50, kde=True)\n",
    "plt.title('Distribution of Prices')\n",
    "plt.xlabel('Price')\n",
    "plt.ylabel('Frequency')\n",
    "plt.show()"
   ]
  },
  {
   "cell_type": "code",
   "execution_count": 16,
   "id": "683e3068-f6b3-4986-be27-1d64a8938715",
   "metadata": {},
   "outputs": [
    {
     "data": {
      "image/png": "[encoded data removed]",
      "text/plain": [
       "<Figure size 800x600 with 1 Axes>"
      ]
     },
     "metadata": {},
     "output_type": "display_data"
    }
   ],
   "source": [
    "# Room type distribution\n",
    "plt.figure(figsize=(8, 6))\n",
    "sns.countplot(x='room_type', data=df)\n",
    "plt.title('Distribution of Room Types')\n",
    "plt.xlabel('Room Type')\n",
    "plt.ylabel('Count')\n",
    "plt.show()"
   ]
  },
  {
   "cell_type": "code",
   "execution_count": 17,
   "id": "732afa72-82c8-41e9-b2c2-f25df7385969",
   "metadata": {},
   "outputs": [
    {
     "data": {
      "image/png": "[encoded data removed]",
      "text/plain": [
       "<Figure size 1000x600 with 1 Axes>"
      ]
     },
     "metadata": {},
     "output_type": "display_data"
    }
   ],
   "source": [
    "# Neighborhood group distribution\n",
    "plt.figure(figsize=(10, 6))\n",
    "sns.countplot(y='neighbourhood_group', data=df, order=df['neighbourhood_group'].value_counts().index)\n",
    "plt.title('Distribution of Listings by Neighborhood Group')\n",
    "plt.ylabel('Neighborhood Group')\n",
    "plt.xlabel('Count')\n",
    "plt.show()"
   ]
  },
  {
   "cell_type": "code",
   "execution_count": 18,
   "id": "9820a16f-bbfb-4b53-88bd-a4935c1508c3",
   "metadata": {},
   "outputs": [
    {
     "data": {
      "image/png": "[encoded data removed]",
      "text/plain": [
       "<Figure size 1000x600 with 1 Axes>"
      ]
     },
     "metadata": {},
     "output_type": "display_data"
    }
   ],
   "source": [
    "plt.figure(figsize=(10, 6))\n",
    "sns.boxplot(x='room_type', y='price', data=df)\n",
    "plt.title('Price Distribution by Room Type')\n",
    "plt.xlabel('Room Type')\n",
    "plt.ylabel('Price')\n",
    "plt.yscale('log')  # Use log scale if price variation is large\n",
    "plt.show()"
   ]
  },
  {
   "cell_type": "code",
   "execution_count": 19,
   "id": "94148e0a-a087-4e53-95a4-0b3b95efe8c2",
   "metadata": {},
   "outputs": [
    {
     "data": {
      "image/png": "[encoded data removed]",
      "text/plain": [
       "<Figure size 1200x800 with 1 Axes>"
      ]
     },
     "metadata": {},
     "output_type": "display_data"
    }
   ],
   "source": [
    "# Average price by neighbourhood group\n",
    "avg_price_neighbourhood = df.groupby('neighbourhood_group')['price'].mean().sort_values()\n",
    "plt.figure(figsize=(12, 8))\n",
    "avg_price_neighbourhood.plot(kind='bar', color='skyblue')\n",
    "plt.title('Average Price by Neighborhood Group')\n",
    "plt.ylabel('Average Price')\n",
    "plt.show()"
   ]
  },
  {
   "cell_type": "markdown",
   "id": "5a25acbb-e050-4c47-bfba-ac12a4abb6a9",
   "metadata": {},
   "source": [
    "# Feature Engineering"
   ]
  },
  {
   "cell_type": "code",
   "execution_count": 20,
   "id": "3fabe2e1-1b9e-4f15-9a16-471ae3176315",
   "metadata": {
    "scrolled": true
   },
   "outputs": [
    {
     "data": {
      "image/png": "[encoded data removed]",
      "text/plain": [
       "<Figure size 1000x600 with 1 Axes>"
      ]
     },
     "metadata": {},
     "output_type": "display_data"
    }
   ],
   "source": [
    "# Potential revenue calculation\n",
    "df['potential_revenue'] = df['price'] * df['availability_365']\n",
    "\n",
    "# Average potential revenue by room type\n",
    "avg_revenue_room_type = df.groupby('room_type')['potential_revenue'].mean().sort_values()\n",
    "plt.figure(figsize=(10, 6))\n",
    "avg_revenue_room_type.plot(kind='bar', color='purple')\n",
    "plt.title('Average Potential Revenue by Room Type')\n",
    "plt.ylabel('Potential Revenue ($)')\n",
    "plt.show()"
   ]
  },
  {
   "cell_type": "code",
   "execution_count": 21,
   "id": "79cbc9b4-ed2f-4b1f-885b-085343e9ed42",
   "metadata": {},
   "outputs": [
    {
     "name": "stdout",
     "output_type": "stream",
     "text": [
      "room_type      Entire home/apt  Hotel room  Private room  Shared room\n",
      "neighbourhood                                                        \n",
      "Allerton            119.952381         NaN     72.142857          NaN\n",
      "Arden Heights       133.750000         NaN           NaN          NaN\n",
      "Arrochar            109.125000         NaN    166.666667          NaN\n",
      "Arverne             224.888889         NaN    162.333333         76.0\n",
      "Astoria             163.125000         NaN     84.237885         96.0\n"
     ]
    }
   ],
   "source": [
    "# Pivot table of average prices by neighbourhood and room type\n",
    "price_pivot = df.pivot_table(values='price', index='neighbourhood', columns='room_type', aggfunc='mean')\n",
    "print(price_pivot.head())"
   ]
  },
  {
   "cell_type": "markdown",
   "id": "81c790bb-6ff5-40bb-b73f-d4e4e4a37cf2",
   "metadata": {},
   "source": [
    "# Summarizing and Visualizing Key Metrics"
   ]
  },
  {
   "cell_type": "code",
   "execution_count": 22,
   "id": "5a04c335-0574-4780-8aaa-88c31a7de64a",
   "metadata": {},
   "outputs": [
    {
     "name": "stdout",
     "output_type": "stream",
     "text": [
      "                     avg_price  median_price  price_std_dev  min_price  \\\n",
      "neighbourhood                                                            \n",
      "Tribeca             455.408451         325.0     607.876411       59.0   \n",
      "Longwood            424.225806          86.0    1777.894517       28.0   \n",
      "Civic Center        393.750000         262.5     323.399686      100.0   \n",
      "SoHo                363.507353         230.0     380.741051       70.0   \n",
      "NoHo                351.333333         210.0     292.776792       95.0   \n",
      "Theater District    347.257143         194.0     793.541133       63.0   \n",
      "West Village        341.786730         220.0     476.936171       39.0   \n",
      "Flatiron District   332.615385         166.0     503.986352       54.0   \n",
      "Financial District  314.867647         211.5     704.880060       39.0   \n",
      "DUMBO               312.882353         275.0     216.480912       80.0   \n",
      "\n",
      "                    max_price  \n",
      "neighbourhood                  \n",
      "Tribeca                5000.0  \n",
      "Longwood               9994.0  \n",
      "Civic Center            999.0  \n",
      "SoHo                   2500.0  \n",
      "NoHo                    995.0  \n",
      "Theater District       7590.0  \n",
      "West Village           4929.0  \n",
      "Flatiron District      2500.0  \n",
      "Financial District    10000.0  \n",
      "DUMBO                   999.0  \n"
     ]
    }
   ],
   "source": [
    "# Get detailed statistics for prices by neighborhood, including the min, max, and average prices.\n",
    "neighbourhood_summary = df.groupby('neighbourhood').agg(\n",
    "    avg_price=('price', 'mean'),\n",
    "    median_price=('price', 'median'),\n",
    "    price_std_dev=('price', 'std'),\n",
    "    min_price=('price', 'min'),\n",
    "    max_price=('price', 'max')\n",
    ").sort_values(by='avg_price', ascending=False)\n",
    "\n",
    "print(neighbourhood_summary.head(10))"
   ]
  },
  {
   "cell_type": "code",
   "execution_count": null,
   "id": "63003a68-8958-4e73-a116-afa1cc0243f2",
   "metadata": {},
   "outputs": [],
   "source": []
  }
 ],
 "metadata": {
  "kernelspec": {
   "display_name": "Python 3 (ipykernel)",
   "language": "python",
   "name": "python3"
  },
  "language_info": {
   "codemirror_mode": {
    "name": "ipython",
    "version": 3
   },
   "file_extension": ".py",
   "mimetype": "text/x-python",
   "name": "python",
   "nbconvert_exporter": "python",
   "pygments_lexer": "ipython3",
   "version": "3.12.4"
  }
 },
 "nbformat": 4,
 "nbformat_minor": 5
}
